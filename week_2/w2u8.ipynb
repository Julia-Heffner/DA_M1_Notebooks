{
 "cells": [
  {
   "cell_type": "markdown",
   "metadata": {},
   "source": [
    "# List Comprehension\n",
    "\n",
    "Lists are one of the core data structures in Python 🐍. Consequently, the Python programming language contains\n",
    "special features for working with lists. One of these features is *list comprehension*. According to the Python \n",
    "[documentation](https://docs.python.org/3/glossary.html#term-list-comprehension) list comprehension is \n",
    "\n",
    "> A compact way to process all or part of the elements in a sequence and return a list with the results. \n",
    "\n",
    "Using list comprehension it is possible to:\n",
    "\n",
    "- create a new list by performing an operation on the elements of an existing sequence\n",
    "- create a new list by filtering the elements of an existing sequence\n",
    "\n",
    "In this unit those two possibilities are introduced using examples.\n",
    "\n",
    "\n",
    "## Creating lists\n",
    "\n",
    "The first usage of list comprehension is to perform an operation on all elements of a sequence. As an example consider a\n",
    "list containing the numbers from 1 to 20. In order to create a list containing the squares of these numbers the following\n",
    "Python code can be used."
   ]
  },
  {
   "cell_type": "code",
   "execution_count": 1,
   "metadata": {},
   "outputs": [
    {
     "name": "stdout",
     "output_type": "stream",
     "text": [
      "The list of squares is: [1, 4, 9, 16, 25, 36, 49, 64, 81, 100, 121, 144, 169, 196, 225, 256, 289, 324, 361, 400]\n"
     ]
    }
   ],
   "source": [
    "numbers = list(range(1, 21))\n",
    "\n",
    "squares = []\n",
    "\n",
    "for number in numbers:\n",
    "    squares.append(number * number)\n",
    "\n",
    "print(\"The list of squares is:\", squares)"
   ]
  },
  {
   "cell_type": "markdown",
   "metadata": {},
   "source": [
    "In this example a list of numbers is created from a [`range`](https://docs.python.org/3/library/stdtypes.html#range).\n",
    "Next a `for` loop is used to calculate the square of every number in the list and append it to the list of squares\n",
    "stored in the variable `squares`.\n",
    "\n",
    "Using list comprehension the same functionality can be implemented much more concise and easier to read. This is shown\n",
    "in the following cell."
   ]
  },
  {
   "cell_type": "code",
   "execution_count": 2,
   "metadata": {},
   "outputs": [
    {
     "name": "stdout",
     "output_type": "stream",
     "text": [
      "The list of squares is: [1, 4, 9, 16, 25, 36, 49, 64, 81, 100, 121, 144, 169, 196, 225, 256, 289, 324, 361, 400]\n"
     ]
    }
   ],
   "source": [
    "numbers = list(range(1, 21))\n",
    "squares = [x ** 2 for x in numbers]\n",
    "\n",
    "print(\"The list of squares is:\", squares)"
   ]
  },
  {
   "cell_type": "markdown",
   "metadata": {},
   "source": [
    "A list comprehension creates a new list. Therefore, the main statements of the list comprehension are \n",
    "enclosed in square brackets. Inside the square brackets first the statement to create a list element is given.\n",
    "In the example above this is `x ** 2`. Next, the sequence, that is the basis of the list comprehension is specified. In\n",
    "the example above `for x in numbers` states that in turn every element of the list numbers is assigned to the variable `x`. \n",
    "In summary, the one line preforms the same operation as the for loop.\n",
    "\n",
    "If only the list of squares is needed the `range` could be used directly in the list comprehension. "
   ]
  },
  {
   "cell_type": "code",
   "execution_count": 3,
   "metadata": {},
   "outputs": [
    {
     "name": "stdout",
     "output_type": "stream",
     "text": [
      "The list of squares is: [1, 4, 9, 16, 25, 36, 49, 64, 81, 100, 121, 144, 169, 196, 225, 256, 289, 324, 361, 400]\n"
     ]
    }
   ],
   "source": [
    "squares = [x ** 2 for x in range(1, 21)]\n",
    "print(\"The list of squares is:\", squares)"
   ]
  },
  {
   "cell_type": "markdown",
   "metadata": {},
   "source": [
    "## Using multiple lists in a list comprehension\n",
    "\n",
    "It is even possible to use multiple lists inside a list comprehension. For example, to create a list containing all the\n",
    "combinations of two lists the following list comprehension can be used. This is much more concise and therefore more\n",
    "readable as the standard approach using two nested `for` loops. "
   ]
  },
  {
   "cell_type": "code",
   "execution_count": 4,
   "metadata": {},
   "outputs": [
    {
     "name": "stdout",
     "output_type": "stream",
     "text": [
      "The possible combinations of letters and numbers are: ['A1', 'A2', 'A3', 'B1', 'B2', 'B3', 'C1', 'C2', 'C3']\n"
     ]
    }
   ],
   "source": [
    "letters = [\"A\", \"B\", \"C\"]\n",
    "numbers = [1, 2, 3]\n",
    "\n",
    "combinations = [l + str(n) for l in letters for n in numbers]\n",
    "\n",
    "print(\"The possible combinations of letters and numbers are:\", combinations)"
   ]
  },
  {
   "cell_type": "markdown",
   "metadata": {},
   "source": [
    "## Filtering lists\n",
    "\n",
    "As mentioned in the introduction, list comprehensions are also very useful in order to filter existing sequences. As an\n",
    "example consider a list containing songs and the number of times these songs were played. In order to create a list with\n",
    "all songs that were played at least 30 times, the following Python 🐍 code could be used."
   ]
  },
  {
   "cell_type": "code",
   "execution_count": 5,
   "metadata": {},
   "outputs": [
    {
     "name": "stdout",
     "output_type": "stream",
     "text": [
      "The songs that were played at least 30 times are: [['Ace of Spades', 99], ['Anarchy in the UK', 51], ['Blue Train', 42], ['Paranoid', 33]]\n"
     ]
    }
   ],
   "source": [
    "songs = [\n",
    "    [\"Ace of Spades\", 99],\n",
    "    [\"Anarchy in the UK\", 51],\n",
    "    [\"Blitzkrieg Bop\", 17],\n",
    "    [\"Blue Train\", 42],\n",
    "    [\"Dirty\", 23],\n",
    "    [\"No Sleep Til Brooklyn\", 15],\n",
    "    [\"Paranoid\", 33],\n",
    "]\n",
    "\n",
    "favorite_songs = []\n",
    "\n",
    "for song in songs:\n",
    "    if song[1] >= 30:\n",
    "        favorite_songs.append(song)\n",
    "\n",
    "print(\"The songs that were played at least 30 times are:\", favorite_songs)"
   ]
  },
  {
   "cell_type": "markdown",
   "metadata": {},
   "source": [
    "Using list comprehension the task can be solved as shown below."
   ]
  },
  {
   "cell_type": "code",
   "execution_count": 6,
   "metadata": {},
   "outputs": [
    {
     "name": "stdout",
     "output_type": "stream",
     "text": [
      "The songs that were played at least 30 times are: [['Ace of Spades', 99], ['Anarchy in the UK', 51], ['Blue Train', 42], ['Paranoid', 33]]\n"
     ]
    }
   ],
   "source": [
    "songs = [\n",
    "    [\"Ace of Spades\", 99],\n",
    "    [\"Anarchy in the UK\", 51],\n",
    "    [\"Blitzkrieg Bop\", 17],\n",
    "    [\"Blue Train\", 42],\n",
    "    [\"Dirty\", 23],\n",
    "    [\"No Sleep Til Brooklyn\", 15],\n",
    "    [\"Paranoid\", 33],\n",
    "]\n",
    "\n",
    "favorite_songs = [s for s in songs if s[1] >= 30]\n",
    "\n",
    "print(\"The songs that were played at least 30 times are:\", favorite_songs)"
   ]
  },
  {
   "cell_type": "markdown",
   "metadata": {},
   "source": [
    "# List Comprehension for FizzBuzz\n",
    "for i in range(1,101):\n",
    "    i=int(i)\n",
    "    if i % 3 == 0 and i % 5 == 0:\n",
    "        print(\"FizzBuzz\")\n",
    "    elif i % 3 == 0:\n",
    "        print(\"Fizz\")\n",
    "    elif i % 5 == 0:\n",
    "        print(\"Buzz\")\n",
    "    else:\n",
    "        print(i)"
   ]
  },
  {
   "cell_type": "code",
   "execution_count": 31,
   "metadata": {},
   "outputs": [
    {
     "name": "stdout",
     "output_type": "stream",
     "text": [
      "1\n",
      "2\n",
      "Fizz\n",
      "4\n",
      "Buzz\n",
      "Fizz\n",
      "7\n",
      "8\n",
      "Fizz\n",
      "Buzz\n",
      "11\n",
      "Fizz\n",
      "13\n",
      "14\n",
      "Fizzbuzz\n",
      "16\n",
      "17\n",
      "Fizz\n",
      "19\n",
      "Buzz\n",
      "Fizz\n",
      "22\n",
      "23\n",
      "Fizz\n",
      "Buzz\n",
      "26\n",
      "Fizz\n",
      "28\n",
      "29\n",
      "Fizzbuzz\n",
      "31\n",
      "32\n",
      "Fizz\n",
      "34\n",
      "Buzz\n",
      "Fizz\n",
      "37\n",
      "38\n",
      "Fizz\n",
      "Buzz\n",
      "41\n",
      "Fizz\n",
      "43\n",
      "44\n",
      "Fizzbuzz\n",
      "46\n",
      "47\n",
      "Fizz\n",
      "49\n",
      "Buzz\n",
      "Fizz\n",
      "52\n",
      "53\n",
      "Fizz\n",
      "Buzz\n",
      "56\n",
      "Fizz\n",
      "58\n",
      "59\n",
      "Fizzbuzz\n",
      "61\n",
      "62\n",
      "Fizz\n",
      "64\n",
      "Buzz\n",
      "Fizz\n",
      "67\n",
      "68\n",
      "Fizz\n",
      "Buzz\n",
      "71\n",
      "Fizz\n",
      "73\n",
      "74\n",
      "Fizzbuzz\n",
      "76\n",
      "77\n",
      "Fizz\n",
      "79\n",
      "Buzz\n",
      "Fizz\n",
      "82\n",
      "83\n",
      "Fizz\n",
      "Buzz\n",
      "86\n",
      "Fizz\n",
      "88\n",
      "89\n",
      "Fizzbuzz\n",
      "91\n",
      "92\n",
      "Fizz\n",
      "94\n",
      "Buzz\n",
      "Fizz\n",
      "97\n",
      "98\n",
      "Fizz\n",
      "Buzz\n"
     ]
    }
   ],
   "source": [
    "fb=[\"Fizzbuzz\" if i % 3 == 0 and i % 5 == 0 else \n",
    "    \"Fizz\" if i % 3 == 0 else\n",
    "    \"Buzz\" if i % 5 == 0 else \n",
    "    i for i in range(1, 101)]\n",
    "for i in fb:\n",
    "    print(i)\n",
    "\n"
   ]
  },
  {
   "cell_type": "markdown",
   "metadata": {},
   "source": [
    "# Week 2 Assignment (Part 2- Exerise)\n",
    "\n",
    "### Write a Python program that asks the user to enter the following data:\n",
    "\n",
    "* An initial stock level for a product\n",
    "* The number of month(s) to plan\n",
    "* The planned sales quantity for each month\n",
    "\n",
    "Based on this data, calculate the required production quantity as follows:\n",
    "\n",
    "* If the sales quantity is smaller than the stock level of the previous month, the production quantity is 0\n",
    "* If the sales quantity is larger than the stock level of the previous month, the production quantity is this difference"
   ]
  },
  {
   "cell_type": "code",
   "execution_count": 18,
   "metadata": {},
   "outputs": [
    {
     "name": "stdout",
     "output_type": "stream",
     "text": [
      "Production quantity month 0 - 0\n",
      "Production quantity month 1 - 50\n",
      "Production quantity month 2 - 200\n",
      "Production quantity month 3 - 400\n",
      "Production quantity month 4 - 100\n"
     ]
    }
   ],
   "source": [
    "#Request information from consumer\n",
    "stock=int(input(\"Please enter an initial stock level: \"))\n",
    "months=int(input(\"Please enter the number of months to plan: \"))\n",
    "\n",
    "planned_sales = []\n",
    "for month in range(months):\n",
    "    ps=int(input(\"Please enter the planned sales quantity: \"))\n",
    "    planned_sales.append(ps)\n",
    "\n",
    "production_quantity=[]\n",
    "for month in range(months):\n",
    "    if stock >= planned_sales[month]:\n",
    "        production_quantity.append(0)\n",
    "        stock -= planned_sales[month]\n",
    "    else:\n",
    "        production = planned_sales[month] - stock\n",
    "        stock = 0\n",
    "        production_quantity.append(production)\n",
    "for month in range(months):\n",
    "    print(\"Production quantity month\", month, \"-\", production_quantity[month])\n"
   ]
  }
 ],
 "metadata": {
  "interpreter": {
   "hash": "9fd0e282e2343d8b38b390b803aabc7fcea80a18eee8e5bd23ce64f6435b30a1"
  },
  "kernelspec": {
   "display_name": "Python 3",
   "language": "python",
   "name": "python3"
  },
  "language_info": {
   "codemirror_mode": {
    "name": "ipython",
    "version": 3
   },
   "file_extension": ".py",
   "mimetype": "text/x-python",
   "name": "python",
   "nbconvert_exporter": "python",
   "pygments_lexer": "ipython3",
   "version": "3.13.0"
  }
 },
 "nbformat": 4,
 "nbformat_minor": 2
}
