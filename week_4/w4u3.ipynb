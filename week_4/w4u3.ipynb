{
 "cells": [
  {
   "cell_type": "markdown",
   "metadata": {},
   "source": [
    "# Reading data from files\n",
    "How to read from a file now? Files are organized sequentially as mentioned before, i.e. they consist of consecutive\n",
    "lines. For processing sequences the `for` loop is suitable. Specifically, one can iterate over the lines of a file like\n",
    "follows:"
   ]
  },
  {
   "cell_type": "code",
   "execution_count": 32,
   "metadata": {},
   "outputs": [
    {
     "name": "stdout",
     "output_type": "stream",
     "text": [
      "Lorem ipsum dolor sit amet, consectetur adipiscing elit,\n",
      "\n",
      "sed do eiusmod tempor incididunt ut labore et dolore magna aliqua.\n",
      "\n",
      "Ut enim ad minim veniam, quis nostrud exercitation ullamco laboris\n",
      "\n",
      "nisi ut aliquip ex ea commodo consequat. Duis aute irure dolor in\n",
      "\n",
      "reprehenderit in voluptate velit esse cillum dolore eu fugiat nulla\n",
      "\n",
      "pariatur. Excepteur sint occaecat cupidatat non proident, sunt in\n",
      "\n",
      "culpa qui officia deserunt mollit anim id est laborum.\n"
     ]
    }
   ],
   "source": [
    "# open file\n",
    "with open(\"w4u2ipsum.txt\", \"r\") as file:\n",
    "    # read file line by line and output the lines\n",
    "    for line in file:\n",
    "        print(line)"
   ]
  },
  {
   "cell_type": "markdown",
   "metadata": {},
   "source": [
    "If you compare the output of the program with the content of the file (e.g. in a text editor), you notice that blank\n",
    "lines have been added to the output. What is the reason for this?  \n",
    "At the end of each line there is a line break `\\n` in the text file. This is only visible indirectly, because the text\n",
    "continues on the next line. On output, the function `print()` adds another line break, hence the blank line. \n",
    "\n",
    "You can correct this behaviour in several ways. One way is to set the `end` parameter in the `print()` function to an\n",
    "empty character `end = \"\"`.  \n",
    "Another way is to *strip* the line first. For strings there is a method `.strip()`. This removes spaces, tabs and line\n",
    "breaks at the beginning and at the end of a string. `.strip()` is often used when reading forms to prevent a leading\n",
    "space from changing the input. With one optional argument, you could also specify which characters should be removed.  \n",
    "Alternatively, `.lstrip()` or `.rstrip()` can be used. In this case something is deleted only left or right of the\n",
    "string."
   ]
  },
  {
   "cell_type": "code",
   "execution_count": 33,
   "metadata": {},
   "outputs": [
    {
     "name": "stdout",
     "output_type": "stream",
     "text": [
      "Lorem ipsum dolor sit amet, consectetur adipiscing elit,\n",
      "sed do eiusmod tempor incididunt ut labore et dolore magna aliqua.\n",
      "Ut enim ad minim veniam, quis nostrud exercitation ullamco laboris\n",
      "nisi ut aliquip ex ea commodo consequat. Duis aute irure dolor in\n",
      "reprehenderit in voluptate velit esse cillum dolore eu fugiat nulla\n",
      "pariatur. Excepteur sint occaecat cupidatat non proident, sunt in\n",
      "culpa qui officia deserunt mollit anim id est laborum.\n"
     ]
    }
   ],
   "source": [
    "# Open file\n",
    "with open(\"w4u2ipsum.txt\", \"r\") as file:\n",
    "    # read file line by line, strip from  and output the lines\n",
    "    for line in file:\n",
    "        line = line.strip()\n",
    "        print(line)"
   ]
  },
  {
   "cell_type": "markdown",
   "metadata": {},
   "source": [
    "## Output the contents of a file twice\n",
    "In the following program, the `for` loop is run twice. What does the output look like? Why?"
   ]
  },
  {
   "cell_type": "code",
   "execution_count": 34,
   "metadata": {},
   "outputs": [
    {
     "name": "stdout",
     "output_type": "stream",
     "text": [
      "First round\n",
      "Lorem ipsum dolor sit amet, consectetur adipiscing elit,\n",
      "sed do eiusmod tempor incididunt ut labore et dolore magna aliqua.\n",
      "Ut enim ad minim veniam, quis nostrud exercitation ullamco laboris\n",
      "nisi ut aliquip ex ea commodo consequat. Duis aute irure dolor in\n",
      "reprehenderit in voluptate velit esse cillum dolore eu fugiat nulla\n",
      "pariatur. Excepteur sint occaecat cupidatat non proident, sunt in\n",
      "culpa qui officia deserunt mollit anim id est laborum.\n",
      "Second round\n"
     ]
    }
   ],
   "source": [
    "# open file\n",
    "with open(\"w4u2ipsum.txt\", \"r\") as file:\n",
    "    # read file line by line and print the lines\n",
    "    print(\"First round\")\n",
    "    for line in file:\n",
    "        line = line.strip()\n",
    "        print(line)\n",
    "\n",
    "    # read file line by line and print the lines\n",
    "    print(\"Second round\")\n",
    "    for line in file:\n",
    "        line = line.strip()\n",
    "        print(line)"
   ]
  },
  {
   "cell_type": "markdown",
   "metadata": {},
   "source": [
    "When reading a file, the \"read cursor\" or \"read pointer\" is moved character by character over the file. If the *read\n",
    "pointer* arrives at the end of the file and is **not** reset or set to another position, it can not continue reading as\n",
    "the file ends there. To place the *read cursor*, the method `.seek()` can be used. However, this is beyond the scope of the course. "
   ]
  },
  {
   "cell_type": "markdown",
   "metadata": {},
   "source": [
    "## Read a file into a list in one go\n",
    "It is possible that the line breaks are superfluous and only exist because a paper page has a limited width for example.\n",
    "In this case, it may make sense to read the entire text \"in one go\" without iterating over the lines using a loop. The\n",
    "method `.readlines()` is useful for this. The result is a list with entry per line."
   ]
  },
  {
   "cell_type": "code",
   "execution_count": 35,
   "metadata": {},
   "outputs": [
    {
     "name": "stdout",
     "output_type": "stream",
     "text": [
      "['Lorem ipsum dolor sit amet, consectetur adipiscing elit,\\n', 'sed do eiusmod tempor incididunt ut labore et dolore magna aliqua.\\n', 'Ut enim ad minim veniam, quis nostrud exercitation ullamco laboris\\n', 'nisi ut aliquip ex ea commodo consequat. Duis aute irure dolor in\\n', 'reprehenderit in voluptate velit esse cillum dolore eu fugiat nulla\\n', 'pariatur. Excepteur sint occaecat cupidatat non proident, sunt in\\n', 'culpa qui officia deserunt mollit anim id est laborum.']\n"
     ]
    }
   ],
   "source": [
    "# Open file\n",
    "with open(\"w4u2ipsum.txt\", \"r\") as file:\n",
    "    # read file in one go\n",
    "    line = file.readlines()\n",
    "    print(line)"
   ]
  },
  {
   "cell_type": "markdown",
   "metadata": {},
   "source": [
    "It might be, that actually there are no line breaks, i.e. there is just one long line. Some editors or text processing programs will add an \"optical line break\". That means, there is no `/n` character. To avoid using the horizontal scrollbar, the editor or text processor breaks the line anyhow. In this case, `.readlines()` will lead to a list with only **one** entry. Depending on the program you are using, it might not be possible to see if there is a real line break or just an \"optical\" one. Thus, one should take care and double check the result of the program."
   ]
  },
  {
   "cell_type": "markdown",
   "metadata": {},
   "source": [
    "# Exercise 1:\n",
    "In the file `numbers2.txt` there is one number per line. Read the file and sum up the numbers. Output your result."
   ]
  },
  {
   "cell_type": "code",
   "execution_count": 36,
   "metadata": {},
   "outputs": [
    {
     "name": "stdout",
     "output_type": "stream",
     "text": [
      "0 0\n",
      "1 1\n",
      "2 3\n",
      "3 6\n",
      "4 10\n",
      "5 15\n",
      "6 21\n",
      "7 28\n",
      "8 36\n",
      "9 45\n",
      "10 55\n",
      "11 66\n",
      "12 78\n",
      "13 91\n",
      "14 105\n",
      "15 120\n",
      "16 136\n",
      "17 153\n",
      "18 171\n",
      "19 190\n",
      "20 210\n",
      "21 231\n",
      "22 253\n",
      "23 276\n",
      "24 300\n",
      "25 325\n",
      "26 351\n",
      "27 378\n",
      "28 406\n",
      "29 435\n",
      "30 465\n",
      "31 496\n",
      "32 528\n",
      "33 561\n",
      "34 595\n",
      "35 630\n",
      "36 666\n",
      "37 703\n",
      "38 741\n",
      "39 780\n",
      "40 820\n",
      "41 861\n",
      "42 903\n",
      "43 946\n",
      "44 990\n",
      "45 1035\n",
      "46 1081\n",
      "47 1128\n",
      "48 1176\n",
      "49 1225\n",
      "50 1275\n",
      "51 1326\n",
      "52 1378\n",
      "53 1431\n",
      "54 1485\n",
      "55 1540\n",
      "56 1596\n",
      "57 1653\n",
      "58 1711\n",
      "59 1770\n",
      "60 1830\n",
      "61 1891\n",
      "62 1953\n",
      "63 2016\n",
      "64 2080\n",
      "65 2145\n",
      "66 2211\n",
      "67 2278\n",
      "68 2346\n",
      "69 2415\n",
      "70 2485\n",
      "71 2556\n",
      "72 2628\n",
      "73 2701\n",
      "74 2775\n",
      "75 2850\n",
      "76 2926\n",
      "77 3003\n",
      "78 3081\n",
      "79 3160\n",
      "80 3240\n",
      "81 3321\n",
      "82 3403\n",
      "83 3486\n",
      "84 3570\n",
      "85 3655\n",
      "86 3741\n",
      "87 3828\n",
      "88 3916\n",
      "89 4005\n",
      "90 4095\n",
      "91 4186\n",
      "92 4278\n",
      "93 4371\n",
      "94 4465\n",
      "95 4560\n",
      "96 4656\n",
      "97 4753\n",
      "98 4851\n",
      "99 4950\n",
      "100 5050\n"
     ]
    }
   ],
   "source": [
    "# open file\n",
    "sum = 0\n",
    "with open(\"w4u2nums.txt\", \"r\") as file:\n",
    "    for line in file:\n",
    "        line = line.strip()\n",
    "        line = int(line)\n",
    "        sum += line\n",
    "        print(line, sum)"
   ]
  },
  {
   "cell_type": "markdown",
   "metadata": {},
   "source": [
    "# Exercise 2"
   ]
  },
  {
   "cell_type": "code",
   "execution_count": 58,
   "metadata": {},
   "outputs": [
    {
     "name": "stdout",
     "output_type": "stream",
     "text": [
      "['9853', '9760', '9745', '9613', '9539', '9529', '9479', '9475', '9472', '9433', '9424', '9313', '9312', '9307', '9276', '9214', '9190', '9122', '9115', '9097', '9075', '9043', '9006', '8996', '8993', '8960', '8922', '8910', '8843', '8749', '8749', '8740', '8717', '8693', '8689', '8670', '8658', '8655', '8527', '8436', '8424', '8401', '8389', '8369', '8322', '8063', '8061', '8061', '8035', '7951', '7946', '7722', '7706', '7691', '7676', '7649', '7612', '7599', '7564', '7484', '7463', '7461', '7415', '7334', '7292', '7183', '7176', '7092', '7005', '6938', '6913', '6906', '6812', '6704', '6652', '6571', '6506', '6504', '6435', '6419', '6405', '6384', '6337', '6311', '6279', '6223', '6018', '5985', '5895', '5885', '5868', '5785', '5637', '5618', '5579', '5565', '5564', '5523', '5496', '5491', '5416', '5335', '5295', '5222', '5205', '5154', '5136', '5077', '5058', '4939', '4916', '4857', '4854', '4845', '4830', '4780', '4683', '4675', '4619', '4601', '4598', '4560', '4557', '4437', '4313', '4265', '4157', '4148', '4130', '3846', '3791', '3773', '3632', '3530', '3523', '3422', '3390', '3374', '3374', '3219', '3202', '3180', '3061', '3020', '2984', '2956', '2951', '2807', '2787', '2765', '2703', '2691', '2629', '2623', '2603', '2571', '2499', '2469', '2443', '2433', '2404', '2380', '2349', '2335', '2277', '2275', '2191', '2084', '1974', '1948', '1925', '1895', '1875', '1840', '1760', '1716', '1705', '1650', '1642', '1625', '1561', '1521', '1482', '1456', '1452', '1448', '1441', '1387', '1369', '1323', '1290', '1269', '1223', '1166', '1163', '1141', '1136', '1060', '1040', '1022']\n",
      "['9853', '9760', '9745']\n"
     ]
    }
   ],
   "source": [
    "lines = open('numbers.txt').read().splitlines()\n",
    "lines.sort(reverse=True)\n",
    "print(lines)\n",
    "print(lines[0:3])\n"
   ]
  }
 ],
 "metadata": {
  "file_extension": ".py",
  "kernelspec": {
   "display_name": "Python 3",
   "language": "python",
   "name": "python3"
  },
  "language_info": {
   "codemirror_mode": {
    "name": "ipython",
    "version": 3
   },
   "file_extension": ".py",
   "mimetype": "text/x-python",
   "name": "python",
   "nbconvert_exporter": "python",
   "pygments_lexer": "ipython3",
   "version": "3.13.0"
  },
  "mimetype": "text/x-python",
  "name": "python",
  "npconvert_exporter": "python",
  "pygments_lexer": "ipython3",
  "version": 3
 },
 "nbformat": 4,
 "nbformat_minor": 2
}
